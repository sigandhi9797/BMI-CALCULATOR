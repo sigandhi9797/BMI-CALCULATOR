{
  "nbformat": 4,
  "nbformat_minor": 0,
  "metadata": {
    "colab": {
      "provenance": [],
      "authorship_tag": "ABX9TyN4gbU18CuBLR3Vc9h/MHIt",
      "include_colab_link": true
    },
    "kernelspec": {
      "name": "python3",
      "display_name": "Python 3"
    },
    "language_info": {
      "name": "python"
    }
  },
  "cells": [
    {
      "cell_type": "markdown",
      "metadata": {
        "id": "view-in-github",
        "colab_type": "text"
      },
      "source": [
        "<a href=\"https://colab.research.google.com/github/sigandhi9797/BMI-CALCULATOR/blob/main/BMI.ipynb\" target=\"_parent\"><img src=\"https://colab.research.google.com/assets/colab-badge.svg\" alt=\"Open In Colab\"/></a>"
      ]
    },
    {
      "cell_type": "code",
      "execution_count": null,
      "metadata": {
        "id": "nbo4kZrShcOv"
      },
      "outputs": [],
      "source": [
        "#CREATING BMI CALCULATOR\n",
        "#https://www.cdc.gov/healthyweight/assessing/index.html\n"
      ]
    },
    {
      "cell_type": "code",
      "source": [
        "Name = input(\"What is your name: \")\n",
        "height = float(input(\"What is you height in inches: \"))\n",
        "weight = float(input(\"What is your weight in pound: \"))\n",
        "BMI = (weight*703)/(height * height)\n",
        "print(round(BMI,2))\n",
        "\n",
        "if BMI > 0:\n",
        "  if BMI <18.5:\n",
        "    print (f\"{Name}, your BMI is {round(BMI,2)}. You are underweight. \")\n",
        "  elif BMI > 18.5 or BMI < 24.9: \n",
        "    print (f\"{Name}, your BMI is {round(BMI,2)}. You are normal weight\")\n",
        "  elif BMI > 25 or BMI < 29.9:\n",
        "    print(f\"{Name}, your BMI is {round(BMI,2)}. You are overweight. \")\n",
        "  else:\n",
        "     print(f\"{Name}, your BMI IS {round(BMI, 2)}. You are obese. \")\n",
        "\n",
        "else:\n",
        "  print(\"Please input a valid measure\")\n",
        "  \n",
        "\n"
      ],
      "metadata": {
        "colab": {
          "base_uri": "https://localhost:8080/"
        },
        "id": "nOonnzIxjUwx",
        "outputId": "c65609ff-e2a4-4875-e635-4c5e3a1f1f37"
      },
      "execution_count": null,
      "outputs": [
        {
          "output_type": "stream",
          "name": "stdout",
          "text": [
            "What is your name: siddhi\n",
            "What is you height in inches: 62.4\n",
            "What is your weight in pound: 138\n",
            "24.92\n",
            "siddhi, your BMI is 24.92. You are normal weight\n"
          ]
        }
      ]
    },
    {
      "cell_type": "code",
      "source": [],
      "metadata": {
        "id": "H-QoVWwEKyDM"
      },
      "execution_count": null,
      "outputs": []
    },
    {
      "cell_type": "code",
      "source": [
        "#If & Elif statements to print correct results from inputs.\n",
        "#Data type conversion to change strings into integers.\n",
        "#Combined strings and int value in the print statement. \n",
        "#Use of inputs to allow users to enter their information.\n",
        "#Use of variables to name functions of the script"
      ],
      "metadata": {
        "id": "IFvGBeWtGtW0"
      },
      "execution_count": null,
      "outputs": []
    }
  ]
}